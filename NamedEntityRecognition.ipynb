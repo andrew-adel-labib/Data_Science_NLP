{
 "cells": [
  {
   "cell_type": "code",
   "execution_count": 1,
   "id": "5385f98c-8fe6-4635-bc22-7ae5c1708171",
   "metadata": {},
   "outputs": [],
   "source": [
    "import nltk"
   ]
  },
  {
   "cell_type": "code",
   "execution_count": 2,
   "id": "53843494-a275-4357-8d91-66eb5f5d25af",
   "metadata": {},
   "outputs": [
    {
     "name": "stderr",
     "output_type": "stream",
     "text": [
      "[nltk_data] Downloading package averaged_perceptron_tagger to\n",
      "[nltk_data]     C:\\Users\\andrew.labib\\AppData\\Roaming\\nltk_data...\n",
      "[nltk_data]   Package averaged_perceptron_tagger is already up-to-\n",
      "[nltk_data]       date!\n",
      "[nltk_data] Downloading package maxent_ne_chunker to\n",
      "[nltk_data]     C:\\Users\\andrew.labib\\AppData\\Roaming\\nltk_data...\n",
      "[nltk_data]   Package maxent_ne_chunker is already up-to-date!\n",
      "[nltk_data] Downloading package words to\n",
      "[nltk_data]     C:\\Users\\andrew.labib\\AppData\\Roaming\\nltk_data...\n",
      "[nltk_data]   Package words is already up-to-date!\n"
     ]
    },
    {
     "data": {
      "text/plain": [
       "True"
      ]
     },
     "execution_count": 2,
     "metadata": {},
     "output_type": "execute_result"
    }
   ],
   "source": [
    "nltk.download('averaged_perceptron_tagger')\n",
    "nltk.download('maxent_ne_chunker')\n",
    "nltk.download('words')"
   ]
  },
  {
   "cell_type": "code",
   "execution_count": 3,
   "id": "0c9c3ebf-32b9-40c9-8bc0-c78d60135c73",
   "metadata": {},
   "outputs": [],
   "source": [
    "paragraph = \"\"\" \n",
    "The Eiffel Tower was built between 1887 and 1889 for the Exposition Universelle (World Fair).\n",
    "It was supposed to be a temporary installation for the 1889 World Fair, held at Paris to show respect to 100 years of the French Revolution.\n",
    "\"\"\""
   ]
  },
  {
   "cell_type": "code",
   "execution_count": 4,
   "id": "8109c955-c892-4dd4-9c81-6b1c6a82bbb7",
   "metadata": {},
   "outputs": [],
   "source": [
    "words = nltk.word_tokenize(paragraph)"
   ]
  },
  {
   "cell_type": "code",
   "execution_count": 5,
   "id": "8e2a5840-6d57-4e7b-9e93-061a42607ea5",
   "metadata": {},
   "outputs": [
    {
     "data": {
      "text/plain": [
       "['The',\n",
       " 'Eiffel',\n",
       " 'Tower',\n",
       " 'was',\n",
       " 'built',\n",
       " 'between',\n",
       " '1887',\n",
       " 'and',\n",
       " '1889',\n",
       " 'for',\n",
       " 'the',\n",
       " 'Exposition',\n",
       " 'Universelle',\n",
       " '(',\n",
       " 'World',\n",
       " 'Fair',\n",
       " ')',\n",
       " '.',\n",
       " 'It',\n",
       " 'was',\n",
       " 'supposed',\n",
       " 'to',\n",
       " 'be',\n",
       " 'a',\n",
       " 'temporary',\n",
       " 'installation',\n",
       " 'for',\n",
       " 'the',\n",
       " '1889',\n",
       " 'World',\n",
       " 'Fair',\n",
       " ',',\n",
       " 'held',\n",
       " 'at',\n",
       " 'Paris',\n",
       " 'to',\n",
       " 'show',\n",
       " 'respect',\n",
       " 'to',\n",
       " '100',\n",
       " 'years',\n",
       " 'of',\n",
       " 'the',\n",
       " 'French',\n",
       " 'Revolution',\n",
       " '.']"
      ]
     },
     "execution_count": 5,
     "metadata": {},
     "output_type": "execute_result"
    }
   ],
   "source": [
    "words"
   ]
  },
  {
   "cell_type": "code",
   "execution_count": 6,
   "id": "79825b99-81fa-465f-a815-fc4451cd8247",
   "metadata": {},
   "outputs": [],
   "source": [
    "pos_tag = nltk.pos_tag(words)"
   ]
  },
  {
   "cell_type": "code",
   "execution_count": 7,
   "id": "9d160cca-fe2c-443a-9d4e-aba92eded11f",
   "metadata": {},
   "outputs": [
    {
     "data": {
      "text/plain": [
       "[('The', 'DT'),\n",
       " ('Eiffel', 'NNP'),\n",
       " ('Tower', 'NNP'),\n",
       " ('was', 'VBD'),\n",
       " ('built', 'VBN'),\n",
       " ('between', 'IN'),\n",
       " ('1887', 'CD'),\n",
       " ('and', 'CC'),\n",
       " ('1889', 'CD'),\n",
       " ('for', 'IN'),\n",
       " ('the', 'DT'),\n",
       " ('Exposition', 'NNP'),\n",
       " ('Universelle', 'NNP'),\n",
       " ('(', '('),\n",
       " ('World', 'NNP'),\n",
       " ('Fair', 'NNP'),\n",
       " (')', ')'),\n",
       " ('.', '.'),\n",
       " ('It', 'PRP'),\n",
       " ('was', 'VBD'),\n",
       " ('supposed', 'VBN'),\n",
       " ('to', 'TO'),\n",
       " ('be', 'VB'),\n",
       " ('a', 'DT'),\n",
       " ('temporary', 'JJ'),\n",
       " ('installation', 'NN'),\n",
       " ('for', 'IN'),\n",
       " ('the', 'DT'),\n",
       " ('1889', 'CD'),\n",
       " ('World', 'NNP'),\n",
       " ('Fair', 'NNP'),\n",
       " (',', ','),\n",
       " ('held', 'VBD'),\n",
       " ('at', 'IN'),\n",
       " ('Paris', 'NNP'),\n",
       " ('to', 'TO'),\n",
       " ('show', 'VB'),\n",
       " ('respect', 'NN'),\n",
       " ('to', 'TO'),\n",
       " ('100', 'CD'),\n",
       " ('years', 'NNS'),\n",
       " ('of', 'IN'),\n",
       " ('the', 'DT'),\n",
       " ('French', 'JJ'),\n",
       " ('Revolution', 'NNP'),\n",
       " ('.', '.')]"
      ]
     },
     "execution_count": 7,
     "metadata": {},
     "output_type": "execute_result"
    }
   ],
   "source": [
    "pos_tag"
   ]
  },
  {
   "cell_type": "code",
   "execution_count": null,
   "id": "cbbbcddc-5965-47f4-8af5-e1b30e03cebc",
   "metadata": {},
   "outputs": [],
   "source": [
    "nltk.ne_chunk(pos_tag).draw()"
   ]
  },
  {
   "cell_type": "code",
   "execution_count": null,
   "id": "cfa0a470-09dd-4ba0-8fd5-a0a60838f0ee",
   "metadata": {},
   "outputs": [],
   "source": []
  }
 ],
 "metadata": {
  "kernelspec": {
   "display_name": "Python 3 (ipykernel)",
   "language": "python",
   "name": "python3"
  },
  "language_info": {
   "codemirror_mode": {
    "name": "ipython",
    "version": 3
   },
   "file_extension": ".py",
   "mimetype": "text/x-python",
   "name": "python",
   "nbconvert_exporter": "python",
   "pygments_lexer": "ipython3",
   "version": "3.12.7"
  }
 },
 "nbformat": 4,
 "nbformat_minor": 5
}
