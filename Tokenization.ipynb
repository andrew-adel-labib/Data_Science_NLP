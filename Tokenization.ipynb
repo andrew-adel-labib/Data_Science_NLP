{
 "cells": [
  {
   "cell_type": "code",
   "execution_count": 43,
   "id": "d6fb92cf-e0db-43e3-9431-af88bfb7c12d",
   "metadata": {},
   "outputs": [
    {
     "name": "stdout",
     "output_type": "stream",
     "text": [
      "Requirement already satisfied: nltk in c:\\users\\andrew.labib\\appdata\\local\\anaconda3\\lib\\site-packages (3.9.1)\n",
      "Requirement already satisfied: click in c:\\users\\andrew.labib\\appdata\\local\\anaconda3\\lib\\site-packages (from nltk) (8.1.7)\n",
      "Requirement already satisfied: joblib in c:\\users\\andrew.labib\\appdata\\local\\anaconda3\\lib\\site-packages (from nltk) (1.4.2)\n",
      "Requirement already satisfied: regex>=2021.8.3 in c:\\users\\andrew.labib\\appdata\\local\\anaconda3\\lib\\site-packages (from nltk) (2024.9.11)\n",
      "Requirement already satisfied: tqdm in c:\\users\\andrew.labib\\appdata\\local\\anaconda3\\lib\\site-packages (from nltk) (4.66.5)\n",
      "Requirement already satisfied: colorama in c:\\users\\andrew.labib\\appdata\\roaming\\python\\python312\\site-packages (from click->nltk) (0.4.6)\n"
     ]
    }
   ],
   "source": [
    "!pip install nltk"
   ]
  },
  {
   "cell_type": "code",
   "execution_count": 44,
   "id": "1549ddba-b2a4-4bac-b338-8af9103b6d15",
   "metadata": {},
   "outputs": [],
   "source": [
    "corpus = \"\"\"Hello Everyone from Andrew's restaurant. I hope you are well. Champions league final match will be held tomorrow.\n",
    "You can watch it in our restaurant. Come to our restaurant and have your favorite drink for free! \n",
    "\"\"\""
   ]
  },
  {
   "cell_type": "code",
   "execution_count": 45,
   "id": "4ad146e5-c0eb-4081-b381-d96610a2dab2",
   "metadata": {},
   "outputs": [
    {
     "name": "stdout",
     "output_type": "stream",
     "text": [
      "Hello Everyone from Andrew's restaurant. I hope you are well. Champions league final match will be held tomorrow.\n",
      "You can watch it in our restaurant. Come to our restaurant and have your favorite drink for free! \n",
      "\n"
     ]
    }
   ],
   "source": [
    "print(corpus)"
   ]
  },
  {
   "cell_type": "markdown",
   "id": "79c25078-bc5a-4d3d-a911-3f19c2e3ce04",
   "metadata": {},
   "source": [
    "Tokenization"
   ]
  },
  {
   "cell_type": "code",
   "execution_count": 46,
   "id": "0be63ff2-e13a-420c-9b6c-5d2a565a4a6d",
   "metadata": {},
   "outputs": [],
   "source": [
    "#Paragraph (Corpus) --> Documents (Sentences)\n",
    "from nltk.tokenize import sent_tokenize"
   ]
  },
  {
   "cell_type": "code",
   "execution_count": 47,
   "id": "1b7bbaba-940a-499f-8f84-4445e676a782",
   "metadata": {},
   "outputs": [],
   "source": [
    "documents = sent_tokenize(corpus)"
   ]
  },
  {
   "cell_type": "code",
   "execution_count": 48,
   "id": "9ad67ef6-b54c-4275-9458-021709818f29",
   "metadata": {},
   "outputs": [
    {
     "data": {
      "text/plain": [
       "[\"Hello Everyone from Andrew's restaurant.\",\n",
       " 'I hope you are well.',\n",
       " 'Champions league final match will be held tomorrow.',\n",
       " 'You can watch it in our restaurant.',\n",
       " 'Come to our restaurant and have your favorite drink for free!']"
      ]
     },
     "execution_count": 48,
     "metadata": {},
     "output_type": "execute_result"
    }
   ],
   "source": [
    "documents"
   ]
  },
  {
   "cell_type": "code",
   "execution_count": 49,
   "id": "2c976cb7-b201-42de-8d80-f9dc57bff34e",
   "metadata": {},
   "outputs": [
    {
     "data": {
      "text/plain": [
       "list"
      ]
     },
     "execution_count": 49,
     "metadata": {},
     "output_type": "execute_result"
    }
   ],
   "source": [
    "type(documents)"
   ]
  },
  {
   "cell_type": "code",
   "execution_count": 50,
   "id": "22df6755-4e70-4aa5-9295-e2d3ec2b4a2e",
   "metadata": {},
   "outputs": [
    {
     "name": "stdout",
     "output_type": "stream",
     "text": [
      "Hello Everyone from Andrew's restaurant.\n",
      "I hope you are well.\n",
      "Champions league final match will be held tomorrow.\n",
      "You can watch it in our restaurant.\n",
      "Come to our restaurant and have your favorite drink for free!\n"
     ]
    }
   ],
   "source": [
    "for sentence in documents:\n",
    "    print(sentence)"
   ]
  },
  {
   "cell_type": "code",
   "execution_count": 51,
   "id": "a7e65b16-bcdf-4174-b467-54266af93021",
   "metadata": {},
   "outputs": [],
   "source": [
    "#Paragraph (Corpus) / Documents (Sentences) --> Words\n",
    "from nltk.tokenize import word_tokenize"
   ]
  },
  {
   "cell_type": "code",
   "execution_count": 52,
   "id": "7f3db042-3a0e-433a-b11d-5bbf64aeb588",
   "metadata": {},
   "outputs": [
    {
     "data": {
      "text/plain": [
       "['Hello',\n",
       " 'Everyone',\n",
       " 'from',\n",
       " 'Andrew',\n",
       " \"'s\",\n",
       " 'restaurant',\n",
       " '.',\n",
       " 'I',\n",
       " 'hope',\n",
       " 'you',\n",
       " 'are',\n",
       " 'well',\n",
       " '.',\n",
       " 'Champions',\n",
       " 'league',\n",
       " 'final',\n",
       " 'match',\n",
       " 'will',\n",
       " 'be',\n",
       " 'held',\n",
       " 'tomorrow',\n",
       " '.',\n",
       " 'You',\n",
       " 'can',\n",
       " 'watch',\n",
       " 'it',\n",
       " 'in',\n",
       " 'our',\n",
       " 'restaurant',\n",
       " '.',\n",
       " 'Come',\n",
       " 'to',\n",
       " 'our',\n",
       " 'restaurant',\n",
       " 'and',\n",
       " 'have',\n",
       " 'your',\n",
       " 'favorite',\n",
       " 'drink',\n",
       " 'for',\n",
       " 'free',\n",
       " '!']"
      ]
     },
     "execution_count": 52,
     "metadata": {},
     "output_type": "execute_result"
    }
   ],
   "source": [
    "word_tokenize(corpus)"
   ]
  },
  {
   "cell_type": "code",
   "execution_count": 53,
   "id": "73d4a385-9472-4632-8a36-65a12dc62d41",
   "metadata": {},
   "outputs": [
    {
     "name": "stdout",
     "output_type": "stream",
     "text": [
      "['Hello', 'Everyone', 'from', 'Andrew', \"'s\", 'restaurant', '.']\n",
      "['I', 'hope', 'you', 'are', 'well', '.']\n",
      "['Champions', 'league', 'final', 'match', 'will', 'be', 'held', 'tomorrow', '.']\n",
      "['You', 'can', 'watch', 'it', 'in', 'our', 'restaurant', '.']\n",
      "['Come', 'to', 'our', 'restaurant', 'and', 'have', 'your', 'favorite', 'drink', 'for', 'free', '!']\n"
     ]
    }
   ],
   "source": [
    "for sentence in documents:\n",
    "    print(word_tokenize(sentence))"
   ]
  },
  {
   "cell_type": "code",
   "execution_count": 54,
   "id": "320ffb6b-0cc8-43fb-8b6f-67ce78bcc7af",
   "metadata": {},
   "outputs": [],
   "source": [
    "from nltk.tokenize import wordpunct_tokenize"
   ]
  },
  {
   "cell_type": "code",
   "execution_count": 55,
   "id": "2c46bd12-e6e7-4fa6-9fd9-a051fc486e58",
   "metadata": {},
   "outputs": [
    {
     "data": {
      "text/plain": [
       "['Hello',\n",
       " 'Everyone',\n",
       " 'from',\n",
       " 'Andrew',\n",
       " \"'\",\n",
       " 's',\n",
       " 'restaurant',\n",
       " '.',\n",
       " 'I',\n",
       " 'hope',\n",
       " 'you',\n",
       " 'are',\n",
       " 'well',\n",
       " '.',\n",
       " 'Champions',\n",
       " 'league',\n",
       " 'final',\n",
       " 'match',\n",
       " 'will',\n",
       " 'be',\n",
       " 'held',\n",
       " 'tomorrow',\n",
       " '.',\n",
       " 'You',\n",
       " 'can',\n",
       " 'watch',\n",
       " 'it',\n",
       " 'in',\n",
       " 'our',\n",
       " 'restaurant',\n",
       " '.',\n",
       " 'Come',\n",
       " 'to',\n",
       " 'our',\n",
       " 'restaurant',\n",
       " 'and',\n",
       " 'have',\n",
       " 'your',\n",
       " 'favorite',\n",
       " 'drink',\n",
       " 'for',\n",
       " 'free',\n",
       " '!']"
      ]
     },
     "execution_count": 55,
     "metadata": {},
     "output_type": "execute_result"
    }
   ],
   "source": [
    "wordpunct_tokenize(corpus)"
   ]
  },
  {
   "cell_type": "code",
   "execution_count": 56,
   "id": "11047e87-7d50-440c-8286-0af9bff9037e",
   "metadata": {},
   "outputs": [],
   "source": [
    "from nltk.tokenize import TreebankWordTokenizer"
   ]
  },
  {
   "cell_type": "code",
   "execution_count": 57,
   "id": "d550f31b-fdba-4942-b3c3-8ef4ecdc6cd4",
   "metadata": {},
   "outputs": [],
   "source": [
    "tokenizer = TreebankWordTokenizer() "
   ]
  },
  {
   "cell_type": "code",
   "execution_count": 58,
   "id": "66031e85-eefd-4549-9dcc-0cc68efe7103",
   "metadata": {},
   "outputs": [
    {
     "data": {
      "text/plain": [
       "['Hello',\n",
       " 'Everyone',\n",
       " 'from',\n",
       " 'Andrew',\n",
       " \"'s\",\n",
       " 'restaurant.',\n",
       " 'I',\n",
       " 'hope',\n",
       " 'you',\n",
       " 'are',\n",
       " 'well.',\n",
       " 'Champions',\n",
       " 'league',\n",
       " 'final',\n",
       " 'match',\n",
       " 'will',\n",
       " 'be',\n",
       " 'held',\n",
       " 'tomorrow.',\n",
       " 'You',\n",
       " 'can',\n",
       " 'watch',\n",
       " 'it',\n",
       " 'in',\n",
       " 'our',\n",
       " 'restaurant.',\n",
       " 'Come',\n",
       " 'to',\n",
       " 'our',\n",
       " 'restaurant',\n",
       " 'and',\n",
       " 'have',\n",
       " 'your',\n",
       " 'favorite',\n",
       " 'drink',\n",
       " 'for',\n",
       " 'free',\n",
       " '!']"
      ]
     },
     "execution_count": 58,
     "metadata": {},
     "output_type": "execute_result"
    }
   ],
   "source": [
    "tokenizer.tokenize(corpus)"
   ]
  },
  {
   "cell_type": "code",
   "execution_count": null,
   "id": "7d70a530-b144-4ab8-9685-19bda036c45d",
   "metadata": {},
   "outputs": [],
   "source": []
  }
 ],
 "metadata": {
  "kernelspec": {
   "display_name": "Python 3 (ipykernel)",
   "language": "python",
   "name": "python3"
  },
  "language_info": {
   "codemirror_mode": {
    "name": "ipython",
    "version": 3
   },
   "file_extension": ".py",
   "mimetype": "text/x-python",
   "name": "python",
   "nbconvert_exporter": "python",
   "pygments_lexer": "ipython3",
   "version": "3.12.7"
  }
 },
 "nbformat": 4,
 "nbformat_minor": 5
}
