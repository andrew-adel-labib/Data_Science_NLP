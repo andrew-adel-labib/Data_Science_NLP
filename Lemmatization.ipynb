{
 "cells": [
  {
   "cell_type": "code",
   "execution_count": 1,
   "id": "111f3868-a0a1-4578-884f-fa80ae0f3b9c",
   "metadata": {},
   "outputs": [],
   "source": [
    "words = [\"eating\", \"eaten\", \"eats\", \"writing\", \"writes\", \"programming\", \"programs\", \"history\", \"finally\", \"finalized\", \"congratulations\", \"sitting\", \"fairly\", \"sportingly\", \"going\", \"goes\"]"
   ]
  },
  {
   "cell_type": "code",
   "execution_count": 2,
   "id": "51cd7efd-0947-474e-8075-8967c061c2df",
   "metadata": {},
   "outputs": [],
   "source": [
    "from nltk.stem import WordNetLemmatizer"
   ]
  },
  {
   "cell_type": "code",
   "execution_count": 3,
   "id": "778bbb33-0417-4afe-badc-a0be201dd268",
   "metadata": {},
   "outputs": [],
   "source": [
    "lemmatizer = WordNetLemmatizer()"
   ]
  },
  {
   "cell_type": "code",
   "execution_count": 4,
   "id": "98b8cfdf-d489-4128-895d-48a56fd85669",
   "metadata": {},
   "outputs": [
    {
     "name": "stdout",
     "output_type": "stream",
     "text": [
      "eating --------> eating\n",
      "eaten --------> eaten\n",
      "eats --------> eats\n",
      "writing --------> writing\n",
      "writes --------> writes\n",
      "programming --------> programming\n",
      "programs --------> program\n",
      "history --------> history\n",
      "finally --------> finally\n",
      "finalized --------> finalized\n",
      "congratulations --------> congratulation\n",
      "sitting --------> sitting\n",
      "fairly --------> fairly\n",
      "sportingly --------> sportingly\n",
      "going --------> going\n",
      "goes --------> go\n"
     ]
    }
   ],
   "source": [
    "for word in words:\n",
    "    print(word + \" --------> \" + lemmatizer.lemmatize(word))"
   ]
  },
  {
   "cell_type": "code",
   "execution_count": 5,
   "id": "9bbcf90c-fcab-4c86-983b-c81fb6581fc7",
   "metadata": {},
   "outputs": [
    {
     "data": {
      "text/plain": [
       "'going'"
      ]
     },
     "execution_count": 5,
     "metadata": {},
     "output_type": "execute_result"
    }
   ],
   "source": [
    "lemmatizer.lemmatize(\"going\", pos=\"n\")"
   ]
  },
  {
   "cell_type": "code",
   "execution_count": 6,
   "id": "55c75019-f793-4401-93c9-146f9d2b1b55",
   "metadata": {},
   "outputs": [
    {
     "data": {
      "text/plain": [
       "'go'"
      ]
     },
     "execution_count": 6,
     "metadata": {},
     "output_type": "execute_result"
    }
   ],
   "source": [
    "lemmatizer.lemmatize(\"going\", pos=\"v\")"
   ]
  },
  {
   "cell_type": "code",
   "execution_count": 7,
   "id": "f2468dae-bc36-4185-9b70-fb979b549012",
   "metadata": {},
   "outputs": [
    {
     "data": {
      "text/plain": [
       "'going'"
      ]
     },
     "execution_count": 7,
     "metadata": {},
     "output_type": "execute_result"
    }
   ],
   "source": [
    "lemmatizer.lemmatize(\"going\", pos=\"a\")"
   ]
  },
  {
   "cell_type": "code",
   "execution_count": 8,
   "id": "72e4bb98-5b72-4bda-8a66-563a0203ec42",
   "metadata": {},
   "outputs": [
    {
     "data": {
      "text/plain": [
       "'going'"
      ]
     },
     "execution_count": 8,
     "metadata": {},
     "output_type": "execute_result"
    }
   ],
   "source": [
    "lemmatizer.lemmatize(\"going\", pos=\"r\")"
   ]
  },
  {
   "cell_type": "code",
   "execution_count": null,
   "id": "34f295ef-c995-4658-8e6d-422ca3e4c988",
   "metadata": {},
   "outputs": [],
   "source": []
  }
 ],
 "metadata": {
  "kernelspec": {
   "display_name": "Python 3 (ipykernel)",
   "language": "python",
   "name": "python3"
  },
  "language_info": {
   "codemirror_mode": {
    "name": "ipython",
    "version": 3
   },
   "file_extension": ".py",
   "mimetype": "text/x-python",
   "name": "python",
   "nbconvert_exporter": "python",
   "pygments_lexer": "ipython3",
   "version": "3.12.7"
  }
 },
 "nbformat": 4,
 "nbformat_minor": 5
}
