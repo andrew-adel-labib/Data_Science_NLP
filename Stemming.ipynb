{
 "cells": [
  {
   "cell_type": "code",
   "execution_count": 49,
   "id": "19bb0a45-6e99-435b-8220-627c3e46ba70",
   "metadata": {},
   "outputs": [],
   "source": [
    "words = [\"eating\", \"eaten\", \"eats\", \"writing\", \"writes\", \"programming\", \"programs\", \"history\", \"finally\", \"finalized\", \"congratulations\", \"sitting\", \"fairly\", \"sportingly\", \"going\", \"goes\"]"
   ]
  },
  {
   "cell_type": "markdown",
   "id": "5d612806-1642-441e-aba9-161990277e84",
   "metadata": {},
   "source": [
    "### PorterStemmer"
   ]
  },
  {
   "cell_type": "code",
   "execution_count": 50,
   "id": "4ea77a97-0f7a-4abd-8fa1-ac54d6a02241",
   "metadata": {},
   "outputs": [],
   "source": [
    "from nltk.stem import PorterStemmer"
   ]
  },
  {
   "cell_type": "code",
   "execution_count": 51,
   "id": "daee46a6-e968-42f6-b584-e29f55b4de96",
   "metadata": {},
   "outputs": [
    {
     "name": "stdout",
     "output_type": "stream",
     "text": [
      "eating -----> eat\n",
      "eaten -----> eaten\n",
      "eats -----> eat\n",
      "writing -----> write\n",
      "writes -----> write\n",
      "programming -----> program\n",
      "programs -----> program\n",
      "history -----> histori\n",
      "finally -----> final\n",
      "finalized -----> final\n",
      "congratulations -----> congratul\n",
      "sitting -----> sit\n",
      "fairly -----> fairli\n",
      "sportingly -----> sportingli\n",
      "going -----> go\n",
      "goes -----> goe\n"
     ]
    }
   ],
   "source": [
    "stemmer = PorterStemmer()\n",
    "\n",
    "for word in words:\n",
    "    print(word + \" -----> \" + stemmer.stem(word))"
   ]
  },
  {
   "cell_type": "markdown",
   "id": "fcef2618-9fb9-4277-aebf-07d98e5e1133",
   "metadata": {},
   "source": [
    "### RegexpStemmer"
   ]
  },
  {
   "cell_type": "code",
   "execution_count": 52,
   "id": "f7cd6cc1-8147-40a6-9161-d33c605432ce",
   "metadata": {},
   "outputs": [],
   "source": [
    "from nltk.stem import RegexpStemmer"
   ]
  },
  {
   "cell_type": "code",
   "execution_count": 53,
   "id": "05ec1342-7b60-4b3a-847e-9cc6af47fd3a",
   "metadata": {},
   "outputs": [],
   "source": [
    "reg_stemmer = RegexpStemmer('ing$|s$|e$|able$', min=4)"
   ]
  },
  {
   "cell_type": "code",
   "execution_count": 54,
   "id": "aa98b3c2-c0ef-4b82-bf99-e8e705e3a784",
   "metadata": {},
   "outputs": [
    {
     "data": {
      "text/plain": [
       "'eat'"
      ]
     },
     "execution_count": 54,
     "metadata": {},
     "output_type": "execute_result"
    }
   ],
   "source": [
    "reg_stemmer.stem(\"eating\")"
   ]
  },
  {
   "cell_type": "code",
   "execution_count": 55,
   "id": "f70eb3ba-7606-49f4-8ab6-89a08500f47d",
   "metadata": {},
   "outputs": [],
   "source": [
    "reg_stemmer = RegexpStemmer('s$', min=3)"
   ]
  },
  {
   "cell_type": "code",
   "execution_count": 56,
   "id": "2bd30cd8-8a2d-41e6-87f3-086061316690",
   "metadata": {},
   "outputs": [
    {
     "data": {
      "text/plain": [
       "'wa'"
      ]
     },
     "execution_count": 56,
     "metadata": {},
     "output_type": "execute_result"
    }
   ],
   "source": [
    "reg_stemmer.stem(\"was\")"
   ]
  },
  {
   "cell_type": "markdown",
   "id": "8391e4ba-53da-47cb-953e-9fb6bd51f662",
   "metadata": {},
   "source": [
    "### SnowballStemmer"
   ]
  },
  {
   "cell_type": "code",
   "execution_count": 57,
   "id": "43a50f69-fe4d-4d02-b6f5-62ba4ce6d67f",
   "metadata": {},
   "outputs": [],
   "source": [
    "from nltk.stem import SnowballStemmer"
   ]
  },
  {
   "cell_type": "code",
   "execution_count": 58,
   "id": "3a516718-70ad-4635-afc0-656f54af00f1",
   "metadata": {},
   "outputs": [],
   "source": [
    "snowball_stemmer = SnowballStemmer('english')"
   ]
  },
  {
   "cell_type": "code",
   "execution_count": 59,
   "id": "a60cd9dc-d774-4559-a347-dc808e55d412",
   "metadata": {},
   "outputs": [
    {
     "name": "stdout",
     "output_type": "stream",
     "text": [
      "eat\n",
      "eaten\n",
      "eat\n",
      "write\n",
      "write\n",
      "program\n",
      "program\n",
      "histori\n",
      "final\n",
      "final\n",
      "congratul\n",
      "sit\n",
      "fair\n",
      "sport\n",
      "go\n",
      "goe\n"
     ]
    }
   ],
   "source": [
    "for word in words:\n",
    "    print(snowball_stemmer.stem(word))"
   ]
  },
  {
   "cell_type": "code",
   "execution_count": null,
   "id": "2779ca5d-cfb5-4c8a-9a8c-8618c719d94b",
   "metadata": {},
   "outputs": [],
   "source": []
  },
  {
   "cell_type": "code",
   "execution_count": null,
   "id": "d6e20474-18a7-497c-b244-150d032094f7",
   "metadata": {},
   "outputs": [],
   "source": []
  }
 ],
 "metadata": {
  "kernelspec": {
   "display_name": "Python 3 (ipykernel)",
   "language": "python",
   "name": "python3"
  },
  "language_info": {
   "codemirror_mode": {
    "name": "ipython",
    "version": 3
   },
   "file_extension": ".py",
   "mimetype": "text/x-python",
   "name": "python",
   "nbconvert_exporter": "python",
   "pygments_lexer": "ipython3",
   "version": "3.12.7"
  }
 },
 "nbformat": 4,
 "nbformat_minor": 5
}
