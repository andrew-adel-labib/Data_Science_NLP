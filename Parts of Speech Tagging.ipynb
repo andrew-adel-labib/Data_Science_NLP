{
 "cells": [
  {
   "cell_type": "code",
   "execution_count": 1,
   "id": "aa8b409d-7b65-4028-8c24-76adf7aaee5d",
   "metadata": {},
   "outputs": [],
   "source": [
    "paragraph = \"\"\" \n",
    "Cristiano Ronaldo dos Santos Aveiro was born on February 5, 1985, in Funchal, Portugal, on the small island of Madeira off the country’s southwestern coast. He is the youngest of four children born to Maria Dolores dos Santos and José Dinis Aveiro. He was named after former U.S. President Ronald Reagan, one of his father’s favorite actors.\n",
    "\n",
    "Ronaldo grew up in a largely working class neighborhood in a small tin-roofed home that overlooked the ocean. He was introduced to the game of soccer through his dad, who worked as an equipment manager at a boy’s club for a time.\n",
    "\n",
    "His early life was shaped by hardship, as his father often drank too much. To help keep the children fed and maintain some financial stability, Ronaldo’s mother worked as a cook and cleaning person. The young athlete had often pushed for his father to enter rehab and address his drinking. His father, however, never accepted the offer.\n",
    "\n",
    "By the time he was 10 years old, Ronaldo was already recognized as a phenom—a kid who ate, slept, and drank soccer. “All he wanted to do as a boy was play football,” his godfather, Fernao Sousa, recalled for British reporters, adding, “He loved the game so much he’d miss meals or escape out of his bedroom window with a ball when he was supposed to be doing his homework.”\n",
    "\n",
    "By his early teens, Ronaldo’s talent and legend had grown considerably. After a stint with Nacional da liha da Madeira, he signed with Sporting Portugal in 2001.\n",
    "\n",
    "In 2005, when Ronaldo was playing for Manchester United, his father died from alcohol-related kidney problems. The loss was especially hard for the then-20-year-old player, because he and his dad had been close. Two years later, Ronaldo’s mother was diagnosed with breast cancer. Her treatment was successful, though she faced a reoccurrence of the disease in 2019. Maria also had a stroke in 2020 that required surgery.\n",
    "\"\"\""
   ]
  },
  {
   "cell_type": "code",
   "execution_count": 6,
   "id": "aeaa65b5-211b-4116-991b-f5bc35abf67c",
   "metadata": {},
   "outputs": [],
   "source": [
    "import nltk\n",
    "from nltk.corpus import stopwords"
   ]
  },
  {
   "cell_type": "code",
   "execution_count": 11,
   "id": "72247d14-86ad-43d2-896b-d76988b5ac63",
   "metadata": {},
   "outputs": [
    {
     "name": "stderr",
     "output_type": "stream",
     "text": [
      "[nltk_data] Downloading package averaged_perceptron_tagger to\n",
      "[nltk_data]     C:\\Users\\andrew.labib\\AppData\\Roaming\\nltk_data...\n",
      "[nltk_data]   Package averaged_perceptron_tagger is already up-to-\n",
      "[nltk_data]       date!\n"
     ]
    },
    {
     "data": {
      "text/plain": [
       "True"
      ]
     },
     "execution_count": 11,
     "metadata": {},
     "output_type": "execute_result"
    }
   ],
   "source": [
    "nltk.download(\"averaged_perceptron_tagger\")"
   ]
  },
  {
   "cell_type": "code",
   "execution_count": null,
   "id": "e3ea93a0-b9a0-41e6-8801-f93edf9ce191",
   "metadata": {},
   "outputs": [],
   "source": [
    "sentences = nltk.sent_tokenize(paragraph)"
   ]
  },
  {
   "cell_type": "code",
   "execution_count": 3,
   "id": "0e1ece14-9b3e-4e54-a610-c305c8f0e57b",
   "metadata": {},
   "outputs": [
    {
     "data": {
      "text/plain": [
       "[' \\nCristiano Ronaldo dos Santos Aveiro was born on February 5, 1985, in Funchal, Portugal, on the small island of Madeira off the country’s southwestern coast.',\n",
       " 'He is the youngest of four children born to Maria Dolores dos Santos and José Dinis Aveiro.',\n",
       " 'He was named after former U.S. President Ronald Reagan, one of his father’s favorite actors.',\n",
       " 'Ronaldo grew up in a largely working class neighborhood in a small tin-roofed home that overlooked the ocean.',\n",
       " 'He was introduced to the game of soccer through his dad, who worked as an equipment manager at a boy’s club for a time.',\n",
       " 'His early life was shaped by hardship, as his father often drank too much.',\n",
       " 'To help keep the children fed and maintain some financial stability, Ronaldo’s mother worked as a cook and cleaning person.',\n",
       " 'The young athlete had often pushed for his father to enter rehab and address his drinking.',\n",
       " 'His father, however, never accepted the offer.',\n",
       " 'By the time he was 10 years old, Ronaldo was already recognized as a phenom—a kid who ate, slept, and drank soccer.',\n",
       " '“All he wanted to do as a boy was play football,” his godfather, Fernao Sousa, recalled for British reporters, adding, “He loved the game so much he’d miss meals or escape out of his bedroom window with a ball when he was supposed to be doing his homework.”\\n\\nBy his early teens, Ronaldo’s talent and legend had grown considerably.',\n",
       " 'After a stint with Nacional da liha da Madeira, he signed with Sporting Portugal in 2001.',\n",
       " 'In 2005, when Ronaldo was playing for Manchester United, his father died from alcohol-related kidney problems.',\n",
       " 'The loss was especially hard for the then-20-year-old player, because he and his dad had been close.',\n",
       " 'Two years later, Ronaldo’s mother was diagnosed with breast cancer.',\n",
       " 'Her treatment was successful, though she faced a reoccurrence of the disease in 2019.',\n",
       " 'Maria also had a stroke in 2020 that required surgery.']"
      ]
     },
     "execution_count": 3,
     "metadata": {},
     "output_type": "execute_result"
    }
   ],
   "source": [
    "sentences"
   ]
  },
  {
   "cell_type": "code",
   "execution_count": 13,
   "id": "7c3fcea3-3d2e-464d-904c-b38a341852e2",
   "metadata": {},
   "outputs": [
    {
     "name": "stdout",
     "output_type": "stream",
     "text": [
      "[('Cristiano', 'NNP'), ('Ronaldo', 'NNP'), ('dos', 'NN'), ('Santos', 'NNP'), ('Aveiro', 'NNP'), ('born', 'VBD'), ('February', 'NNP'), ('5', 'CD'), (',', ','), ('1985', 'CD'), (',', ','), ('Funchal', 'NNP'), (',', ','), ('Portugal', 'NNP'), (',', ','), ('small', 'JJ'), ('island', 'NN'), ('Madeira', 'NNP'), ('country', 'NN'), ('’', 'NNP'), ('southwestern', 'JJ'), ('coast', 'NN'), ('.', '.')]\n",
      "[('He', 'PRP'), ('youngest', 'JJS'), ('four', 'CD'), ('children', 'NNS'), ('born', 'VBN'), ('Maria', 'NNP'), ('Dolores', 'NNP'), ('dos', 'VBZ'), ('Santos', 'NNP'), ('José', 'NNP'), ('Dinis', 'NNP'), ('Aveiro', 'NNP'), ('.', '.')]\n",
      "[('He', 'PRP'), ('named', 'VBD'), ('former', 'JJ'), ('U.S.', 'NNP'), ('President', 'NNP'), ('Ronald', 'NNP'), ('Reagan', 'NNP'), (',', ','), ('one', 'CD'), ('father', 'NN'), ('’', 'NNP'), ('favorite', 'JJ'), ('actors', 'NNS'), ('.', '.')]\n",
      "[('Ronaldo', 'NNP'), ('grew', 'VBD'), ('largely', 'RB'), ('working', 'VBG'), ('class', 'NN'), ('neighborhood', 'NN'), ('small', 'JJ'), ('tin-roofed', 'JJ'), ('home', 'NN'), ('overlooked', 'VBD'), ('ocean', 'JJ'), ('.', '.')]\n",
      "[('He', 'PRP'), ('introduced', 'VBD'), ('game', 'NN'), ('soccer', 'NN'), ('dad', 'NN'), (',', ','), ('worked', 'VBD'), ('equipment', 'NN'), ('manager', 'NN'), ('boy', 'NN'), ('’', 'NNP'), ('club', 'NN'), ('time', 'NN'), ('.', '.')]\n",
      "[('His', 'PRP$'), ('early', 'JJ'), ('life', 'NN'), ('shaped', 'VBD'), ('hardship', 'NN'), (',', ','), ('father', 'RB'), ('often', 'RB'), ('drank', 'JJ'), ('much', 'RB'), ('.', '.')]\n",
      "[('To', 'TO'), ('help', 'VB'), ('keep', 'VB'), ('children', 'NNS'), ('fed', 'VBN'), ('maintain', 'VBP'), ('financial', 'JJ'), ('stability', 'NN'), (',', ','), ('Ronaldo', 'NNP'), ('’', 'NNP'), ('mother', 'NN'), ('worked', 'VBD'), ('cook', 'NN'), ('cleaning', 'VBG'), ('person', 'NN'), ('.', '.')]\n",
      "[('The', 'DT'), ('young', 'JJ'), ('athlete', 'NN'), ('often', 'RB'), ('pushed', 'VBD'), ('father', 'RB'), ('enter', 'JJ'), ('rehab', 'NN'), ('address', 'NN'), ('drinking', 'NN'), ('.', '.')]\n",
      "[('His', 'PRP$'), ('father', 'NN'), (',', ','), ('however', 'RB'), (',', ','), ('never', 'RB'), ('accepted', 'VBD'), ('offer', 'NN'), ('.', '.')]\n",
      "[('By', 'IN'), ('time', 'NN'), ('10', 'CD'), ('years', 'NNS'), ('old', 'JJ'), (',', ','), ('Ronaldo', 'NNP'), ('already', 'RB'), ('recognized', 'VBD'), ('phenom—a', 'JJ'), ('kid', 'NN'), ('ate', 'NN'), (',', ','), ('slept', 'NN'), (',', ','), ('drank', 'JJ'), ('soccer', 'NN'), ('.', '.')]\n",
      "[('“', 'VB'), ('All', 'DT'), ('wanted', 'VBN'), ('boy', 'NN'), ('play', 'NN'), ('football', 'NN'), (',', ','), ('”', 'NNP'), ('godfather', 'NN'), (',', ','), ('Fernao', 'NNP'), ('Sousa', 'NNP'), (',', ','), ('recalled', 'VBD'), ('British', 'JJ'), ('reporters', 'NNS'), (',', ','), ('adding', 'VBG'), (',', ','), ('“', 'NN'), ('He', 'PRP'), ('loved', 'VBD'), ('game', 'NN'), ('much', 'JJ'), ('’', 'NNP'), ('miss', 'NN'), ('meals', 'NNS'), ('escape', 'VBP'), ('bedroom', 'NN'), ('window', 'NN'), ('ball', 'NN'), ('supposed', 'VBD'), ('homework.', 'JJ'), ('”', 'NN'), ('By', 'IN'), ('early', 'JJ'), ('teens', 'NNS'), (',', ','), ('Ronaldo', 'NNP'), ('’', 'NNP'), ('talent', 'NN'), ('legend', 'NN'), ('grown', 'NN'), ('considerably', 'RB'), ('.', '.')]\n",
      "[('After', 'IN'), ('stint', 'JJ'), ('Nacional', 'NNP'), ('da', 'NN'), ('liha', 'NN'), ('da', 'NN'), ('Madeira', 'NNP'), (',', ','), ('signed', 'VBD'), ('Sporting', 'NNP'), ('Portugal', 'NNP'), ('2001', 'CD'), ('.', '.')]\n",
      "[('In', 'IN'), ('2005', 'CD'), (',', ','), ('Ronaldo', 'NNP'), ('playing', 'VBG'), ('Manchester', 'NNP'), ('United', 'NNP'), (',', ','), ('father', 'RB'), ('died', 'VBD'), ('alcohol-related', 'JJ'), ('kidney', 'NN'), ('problems', 'NNS'), ('.', '.')]\n",
      "[('The', 'DT'), ('loss', 'NN'), ('especially', 'RB'), ('hard', 'JJ'), ('then-20-year-old', 'JJ'), ('player', 'NN'), (',', ','), ('dad', 'NN'), ('close', 'RB'), ('.', '.')]\n",
      "[('Two', 'CD'), ('years', 'NNS'), ('later', 'RB'), (',', ','), ('Ronaldo', 'NNP'), ('’', 'NNP'), ('mother', 'NN'), ('diagnosed', 'VBD'), ('breast', 'NN'), ('cancer', 'NN'), ('.', '.')]\n",
      "[('Her', 'PRP$'), ('treatment', 'NN'), ('successful', 'JJ'), (',', ','), ('though', 'RB'), ('faced', 'JJ'), ('reoccurrence', 'NN'), ('disease', 'NN'), ('2019', 'CD'), ('.', '.')]\n",
      "[('Maria', 'NNP'), ('also', 'RB'), ('stroke', 'VBD'), ('2020', 'CD'), ('required', 'JJ'), ('surgery', 'NN'), ('.', '.')]\n"
     ]
    }
   ],
   "source": [
    "for i in range(len(sentences)):\n",
    "    words = nltk.word_tokenize(sentences[i])\n",
    "    words = [word for word in words if word not in set(stopwords.words('english'))]\n",
    "    pos_tag = nltk.pos_tag(words)\n",
    "    print(pos_tag)"
   ]
  },
  {
   "cell_type": "code",
   "execution_count": 15,
   "id": "f9ad659f-1fb4-4857-896a-d90a8b3a124b",
   "metadata": {},
   "outputs": [
    {
     "name": "stdout",
     "output_type": "stream",
     "text": [
      "[('I', 'PRP'), ('am', 'VBP'), ('Andrew', 'NNP'), ('Adel.', 'NNP'), ('I', 'PRP'), ('am', 'VBP'), ('a', 'DT'), ('Data', 'NNP'), ('Scientist', 'NN')]\n"
     ]
    }
   ],
   "source": [
    "print(nltk.pos_tag(\"I am Andrew Adel. I am a Data Scientist\".split()))"
   ]
  },
  {
   "cell_type": "code",
   "execution_count": null,
   "id": "c5cca339-a6b7-4fd4-bff1-b66fbe9850bb",
   "metadata": {},
   "outputs": [],
   "source": []
  }
 ],
 "metadata": {
  "kernelspec": {
   "display_name": "Python 3 (ipykernel)",
   "language": "python",
   "name": "python3"
  },
  "language_info": {
   "codemirror_mode": {
    "name": "ipython",
    "version": 3
   },
   "file_extension": ".py",
   "mimetype": "text/x-python",
   "name": "python",
   "nbconvert_exporter": "python",
   "pygments_lexer": "ipython3",
   "version": "3.12.7"
  }
 },
 "nbformat": 4,
 "nbformat_minor": 5
}
